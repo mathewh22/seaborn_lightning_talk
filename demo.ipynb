{
 "cells": [
  {
   "cell_type": "markdown",
   "id": "69a3fc29",
   "metadata": {},
   "source": [
    "# Seaborn Lighning Talk Demo \n",
    "Group 21, Plotters for Success"
   ]
  },
  {
   "cell_type": "code",
   "execution_count": 2,
   "id": "06312ac5-1302-4f36-a1fa-3b734843f08c",
   "metadata": {},
   "outputs": [
    {
     "name": "stderr",
     "output_type": "stream",
     "text": [
      "/usr/lib/python3/dist-packages/scipy/__init__.py:146: UserWarning: A NumPy version >=1.17.3 and <1.25.0 is required for this version of SciPy (detected version 1.26.4\n",
      "  warnings.warn(f\"A NumPy version >={np_minversion} and <{np_maxversion}\"\n"
     ]
    }
   ],
   "source": [
    "import numpy as np\n",
    "import pandas as pd\n",
    "import seaborn as sns\n",
    "import matplotlib.pyplot as plt"
   ]
  },
  {
   "cell_type": "markdown",
   "id": "58d00ce8-28bc-4182-9e4a-1a6f9bcd1dd2",
   "metadata": {},
   "source": [
    "Today, we will demonstrate the Capabilities of Seaborn using a dataset for NBA shots in the 2024 season. We will be highlighting 3 main functions of seaborn:\n",
    "1. **Heatmaps**\n",
    "2. **Built-in** Statistical Functions\n",
    "3. **Multiplot**\n"
   ]
  },
  {
   "cell_type": "code",
   "execution_count": 3,
   "id": "720d3e4a-3df9-4c04-98f8-4eb2a59165c3",
   "metadata": {},
   "outputs": [
    {
     "data": {
      "text/html": [
       "<div>\n",
       "<style scoped>\n",
       "    .dataframe tbody tr th:only-of-type {\n",
       "        vertical-align: middle;\n",
       "    }\n",
       "\n",
       "    .dataframe tbody tr th {\n",
       "        vertical-align: top;\n",
       "    }\n",
       "\n",
       "    .dataframe thead th {\n",
       "        text-align: right;\n",
       "    }\n",
       "</style>\n",
       "<table border=\"1\" class=\"dataframe\">\n",
       "  <thead>\n",
       "    <tr style=\"text-align: right;\">\n",
       "      <th></th>\n",
       "      <th>SEASON_1</th>\n",
       "      <th>SEASON_2</th>\n",
       "      <th>TEAM_ID</th>\n",
       "      <th>TEAM_NAME</th>\n",
       "      <th>PLAYER_ID</th>\n",
       "      <th>PLAYER_NAME</th>\n",
       "      <th>POSITION_GROUP</th>\n",
       "      <th>POSITION</th>\n",
       "      <th>GAME_DATE</th>\n",
       "      <th>GAME_ID</th>\n",
       "      <th>...</th>\n",
       "      <th>BASIC_ZONE</th>\n",
       "      <th>ZONE_NAME</th>\n",
       "      <th>ZONE_ABB</th>\n",
       "      <th>ZONE_RANGE</th>\n",
       "      <th>LOC_X</th>\n",
       "      <th>LOC_Y</th>\n",
       "      <th>SHOT_DISTANCE</th>\n",
       "      <th>QUARTER</th>\n",
       "      <th>MINS_LEFT</th>\n",
       "      <th>SECS_LEFT</th>\n",
       "    </tr>\n",
       "  </thead>\n",
       "  <tbody>\n",
       "    <tr>\n",
       "      <th>0</th>\n",
       "      <td>2024</td>\n",
       "      <td>2023-24</td>\n",
       "      <td>1610612764</td>\n",
       "      <td>Washington Wizards</td>\n",
       "      <td>1629673</td>\n",
       "      <td>Jordan Poole</td>\n",
       "      <td>G</td>\n",
       "      <td>SG</td>\n",
       "      <td>11-03-2023</td>\n",
       "      <td>22300003</td>\n",
       "      <td>...</td>\n",
       "      <td>In The Paint (Non-RA)</td>\n",
       "      <td>Center</td>\n",
       "      <td>C</td>\n",
       "      <td>8-16 ft.</td>\n",
       "      <td>-0.4</td>\n",
       "      <td>17.45</td>\n",
       "      <td>12</td>\n",
       "      <td>1</td>\n",
       "      <td>11</td>\n",
       "      <td>1</td>\n",
       "    </tr>\n",
       "    <tr>\n",
       "      <th>1</th>\n",
       "      <td>2024</td>\n",
       "      <td>2023-24</td>\n",
       "      <td>1610612764</td>\n",
       "      <td>Washington Wizards</td>\n",
       "      <td>1630166</td>\n",
       "      <td>Deni Avdija</td>\n",
       "      <td>F</td>\n",
       "      <td>SF</td>\n",
       "      <td>11-03-2023</td>\n",
       "      <td>22300003</td>\n",
       "      <td>...</td>\n",
       "      <td>Above the Break 3</td>\n",
       "      <td>Center</td>\n",
       "      <td>C</td>\n",
       "      <td>24+ ft.</td>\n",
       "      <td>1.5</td>\n",
       "      <td>30.55</td>\n",
       "      <td>25</td>\n",
       "      <td>1</td>\n",
       "      <td>10</td>\n",
       "      <td>26</td>\n",
       "    </tr>\n",
       "    <tr>\n",
       "      <th>2</th>\n",
       "      <td>2024</td>\n",
       "      <td>2023-24</td>\n",
       "      <td>1610612764</td>\n",
       "      <td>Washington Wizards</td>\n",
       "      <td>1626145</td>\n",
       "      <td>Tyus Jones</td>\n",
       "      <td>G</td>\n",
       "      <td>PG</td>\n",
       "      <td>11-03-2023</td>\n",
       "      <td>22300003</td>\n",
       "      <td>...</td>\n",
       "      <td>Restricted Area</td>\n",
       "      <td>Center</td>\n",
       "      <td>C</td>\n",
       "      <td>Less Than 8 ft.</td>\n",
       "      <td>-3.3</td>\n",
       "      <td>6.55</td>\n",
       "      <td>3</td>\n",
       "      <td>1</td>\n",
       "      <td>9</td>\n",
       "      <td>46</td>\n",
       "    </tr>\n",
       "    <tr>\n",
       "      <th>3</th>\n",
       "      <td>2024</td>\n",
       "      <td>2023-24</td>\n",
       "      <td>1610612764</td>\n",
       "      <td>Washington Wizards</td>\n",
       "      <td>1629673</td>\n",
       "      <td>Jordan Poole</td>\n",
       "      <td>G</td>\n",
       "      <td>SG</td>\n",
       "      <td>11-03-2023</td>\n",
       "      <td>22300003</td>\n",
       "      <td>...</td>\n",
       "      <td>Restricted Area</td>\n",
       "      <td>Center</td>\n",
       "      <td>C</td>\n",
       "      <td>Less Than 8 ft.</td>\n",
       "      <td>-1.0</td>\n",
       "      <td>5.85</td>\n",
       "      <td>1</td>\n",
       "      <td>1</td>\n",
       "      <td>8</td>\n",
       "      <td>30</td>\n",
       "    </tr>\n",
       "    <tr>\n",
       "      <th>4</th>\n",
       "      <td>2024</td>\n",
       "      <td>2023-24</td>\n",
       "      <td>1610612764</td>\n",
       "      <td>Washington Wizards</td>\n",
       "      <td>1626145</td>\n",
       "      <td>Tyus Jones</td>\n",
       "      <td>G</td>\n",
       "      <td>PG</td>\n",
       "      <td>11-03-2023</td>\n",
       "      <td>22300003</td>\n",
       "      <td>...</td>\n",
       "      <td>Restricted Area</td>\n",
       "      <td>Center</td>\n",
       "      <td>C</td>\n",
       "      <td>Less Than 8 ft.</td>\n",
       "      <td>-0.0</td>\n",
       "      <td>6.25</td>\n",
       "      <td>1</td>\n",
       "      <td>1</td>\n",
       "      <td>8</td>\n",
       "      <td>8</td>\n",
       "    </tr>\n",
       "  </tbody>\n",
       "</table>\n",
       "<p>5 rows × 26 columns</p>\n",
       "</div>"
      ],
      "text/plain": [
       "   SEASON_1 SEASON_2     TEAM_ID           TEAM_NAME  PLAYER_ID   PLAYER_NAME  \\\n",
       "0      2024  2023-24  1610612764  Washington Wizards    1629673  Jordan Poole   \n",
       "1      2024  2023-24  1610612764  Washington Wizards    1630166   Deni Avdija   \n",
       "2      2024  2023-24  1610612764  Washington Wizards    1626145    Tyus Jones   \n",
       "3      2024  2023-24  1610612764  Washington Wizards    1629673  Jordan Poole   \n",
       "4      2024  2023-24  1610612764  Washington Wizards    1626145    Tyus Jones   \n",
       "\n",
       "  POSITION_GROUP POSITION   GAME_DATE   GAME_ID  ...             BASIC_ZONE  \\\n",
       "0              G       SG  11-03-2023  22300003  ...  In The Paint (Non-RA)   \n",
       "1              F       SF  11-03-2023  22300003  ...      Above the Break 3   \n",
       "2              G       PG  11-03-2023  22300003  ...        Restricted Area   \n",
       "3              G       SG  11-03-2023  22300003  ...        Restricted Area   \n",
       "4              G       PG  11-03-2023  22300003  ...        Restricted Area   \n",
       "\n",
       "  ZONE_NAME ZONE_ABB       ZONE_RANGE LOC_X  LOC_Y SHOT_DISTANCE QUARTER  \\\n",
       "0    Center        C         8-16 ft.  -0.4  17.45            12       1   \n",
       "1    Center        C          24+ ft.   1.5  30.55            25       1   \n",
       "2    Center        C  Less Than 8 ft.  -3.3   6.55             3       1   \n",
       "3    Center        C  Less Than 8 ft.  -1.0   5.85             1       1   \n",
       "4    Center        C  Less Than 8 ft.  -0.0   6.25             1       1   \n",
       "\n",
       "  MINS_LEFT SECS_LEFT  \n",
       "0        11         1  \n",
       "1        10        26  \n",
       "2         9        46  \n",
       "3         8        30  \n",
       "4         8         8  \n",
       "\n",
       "[5 rows x 26 columns]"
      ]
     },
     "execution_count": 3,
     "metadata": {},
     "output_type": "execute_result"
    }
   ],
   "source": [
    "data = pd.read_csv('NBA_2024_Shots.csv')\n",
    "data.head()"
   ]
  },
  {
   "cell_type": "markdown",
   "id": "9ff1af54",
   "metadata": {},
   "source": [
    "## Pandas Integration"
   ]
  },
  {
   "cell_type": "markdown",
   "id": "b2360f13",
   "metadata": {},
   "source": [
    "### **Preparing Dataset**\n",
    "\n",
    "We are then using the built-in statistical functions to establish relationships.\n",
    "\n",
    "To demonstrate this, we are going to get shots from a few top players and relate it to the distance. To start, we isolated the columns of interest: **Name, Shot Distance, Player Name**"
   ]
  },
  {
   "cell_type": "code",
   "execution_count": 25,
   "id": "b9d4f5eb",
   "metadata": {},
   "outputs": [
    {
     "name": "stdout",
     "output_type": "stream",
     "text": [
      "            PLAYER_NAME  SHOT_DISTANCE  SHOT_MADE            GAME_DATE\n",
      "171653      A.J. Lawson              3      False  2024-01-31 00:00:00\n",
      "174692      A.J. Lawson              0       True  2023-12-06 00:00:00\n",
      "174759      A.J. Lawson              3       True  2023-12-08 00:00:00\n",
      "172639      A.J. Lawson              0       True  2024-02-28 00:00:00\n",
      "172268      A.J. Lawson              5      False  2024-02-14 00:00:00\n",
      "...                 ...            ...        ...                  ...\n",
      "87107   Zion Williamson              3      False  2024-04-09 00:00:00\n",
      "86032   Zion Williamson              2      False  2024-03-15 00:00:00\n",
      "86034   Zion Williamson              1       True  2024-03-15 00:00:00\n",
      "87104   Zion Williamson              2       True  2024-04-09 00:00:00\n",
      "81366   Zion Williamson              8      False  2023-11-06 00:00:00\n",
      "\n",
      "[218701 rows x 4 columns]\n"
     ]
    }
   ],
   "source": [
    "subset = data[['PLAYER_NAME', 'SHOT_DISTANCE', 'SHOT_MADE', 'GAME_DATE'] ]\n",
    "subset.loc[:,'GAME_DATE'] = pd.to_datetime(subset['GAME_DATE'])\n",
    "subset = subset.sort_values(by='PLAYER_NAME')\n",
    "print(subset)"
   ]
  },
  {
   "cell_type": "markdown",
   "id": "b16123bd",
   "metadata": {},
   "source": [
    "We isolated the top 10 most frequent shooters in the NBA"
   ]
  },
  {
   "cell_type": "code",
   "execution_count": 26,
   "id": "f78d56ea",
   "metadata": {},
   "outputs": [
    {
     "name": "stdout",
     "output_type": "stream",
     "text": [
      "['Luka Doncic', 'Jalen Brunson', 'Anthony Edwards', \"De'Aaron Fox\", 'Shai Gilgeous-Alexander']\n"
     ]
    }
   ],
   "source": [
    "unique_names = subset['PLAYER_NAME'].value_counts()\n",
    "top_5 = unique_names.head(5).index.tolist()\n",
    "print(top_5)\n"
   ]
  },
  {
   "cell_type": "markdown",
   "id": "6709eb56",
   "metadata": {},
   "source": [
    "We will now generate a list of pandas dataset for made shots and failed shots"
   ]
  },
  {
   "cell_type": "code",
   "execution_count": 29,
   "id": "c7fb3aa0",
   "metadata": {},
   "outputs": [
    {
     "name": "stdout",
     "output_type": "stream",
     "text": [
      "Player Name: Luka Doncic\n",
      "Number of Shots Made at each distance\n",
      "   SHOT_DISTANCE  SHOT_MADE  Occurrences  Percentage\n",
      "1              0       True           48    2.905569\n",
      "3              1       True           78    4.721550\n",
      "5              2       True           44    2.663438\n",
      "7              3       True           32    1.937046\n",
      "9              4       True           25    1.513317\n",
      "\n",
      "\n",
      "Number of Shots Missed at each distance\n",
      "   SHOT_DISTANCE  SHOT_MADE  Occurrences  Percentage\n",
      "0              0      False           12    0.726392\n",
      "2              1      False            7    0.423729\n",
      "4              2      False           15    0.907990\n",
      "6              3      False           30    1.815981\n",
      "8              4      False           11    0.665860\n"
     ]
    }
   ],
   "source": [
    "true_list = []\n",
    "false_list=[]\n",
    "shot_list= []\n",
    "for player in top_5:\n",
    "    player_shots = subset[subset['PLAYER_NAME'] == player]\n",
    "    shots_by_bool = player_shots.groupby(['SHOT_DISTANCE', 'SHOT_MADE']).size().reset_index(name='Occurrences')\n",
    "    shots_by_bool['Percentage'] = (shots_by_bool['Occurrences']/shots_by_bool['Occurrences'].sum())*100\n",
    "    shot_list.append(shots_by_bool)\n",
    "    true_list.append(shots_by_bool[shots_by_bool['SHOT_MADE']==True])\n",
    "    false_list.append(shots_by_bool[shots_by_bool['SHOT_MADE']==False])\n",
    "\n",
    "# Print Luka Doncic's stats\n",
    "\n",
    "print('Player Name: ' + top_5[0])\n",
    "print('Number of Shots Made at each distance')\n",
    "print(true_list[0].head())\n",
    "\n",
    "print('\\n')\n",
    "print('Number of Shots Missed at each distance')\n",
    "print(false_list[0].head())"
   ]
  },
  {
   "cell_type": "markdown",
   "id": "3f7b8dcb",
   "metadata": {},
   "source": [
    "From there, we will demonstrate the **integration with Pandas**. \n",
    "\n",
    "The example will demonstrate the automatic handling of Pandas Dataframes with the use of **x**, **y**, and **hue**.\n",
    "\n",
    "To demonstrate this, we first will create a relationship plot between the shots Luka Doncic shot in the 2023-2024 season and separating the data based on whether they made or missed it using matplotlib\n"
   ]
  },
  {
   "cell_type": "code",
   "execution_count": 30,
   "id": "2fe3a210",
   "metadata": {},
   "outputs": [
    {
     "data": {
      "image/png": "[encoded data removed]",
      "text/plain": [
       "<Figure size 640x480 with 1 Axes>"
      ]
     },
     "metadata": {},
     "output_type": "display_data"
    }
   ],
   "source": [
    "luka_data = shot_list[0]\n",
    "made_shots = luka_data[luka_data['SHOT_MADE']== True]\n",
    "missed_shots = luka_data[luka_data['SHOT_MADE']== False]\n",
    "\n",
    "\n",
    "plt.scatter(made_shots['SHOT_DISTANCE'], made_shots['Percentage'], color = 'blue', label = 'Shot Made', alpha = 0.7)\n",
    "plt.scatter(missed_shots['SHOT_DISTANCE'], missed_shots['Percentage'], color = 'orange', label = 'Shot Missed', alpha = 0.7)\n",
    "plt.xlabel('Shot Distance')\n",
    "plt.ylabel('Percentage')\n",
    "plt.title('Shot Distribution for Luka Doncic')\n",
    "plt.legend()\n",
    "plt.show()\n"
   ]
  },
  {
   "cell_type": "markdown",
   "id": "f1210349",
   "metadata": {},
   "source": [
    "Now using seaborn, we cut down on the number of code by **not** having to isolate the pandas dataframes columns explicitly.\n",
    "\n",
    "We were also able to handle categorical data with more ease with the help of **hue.** In our example, we only used a boolean of True or False but we can also use it for a categorical variable that is more than just a binary.\n",
    "\n",
    "Furthermore, the labeling is automatic as Seaborn takes the column names from the Pandas Dataframe. However, you are also given the option to change up your axes titles. "
   ]
  },
  {
   "cell_type": "code",
   "execution_count": 13,
   "id": "1c6d53c0",
   "metadata": {},
   "outputs": [
    {
     "data": {
      "image/png": "[encoded data removed]",
      "text/plain": [
       "<Figure size 597.736x500 with 1 Axes>"
      ]
     },
     "metadata": {},
     "output_type": "display_data"
    }
   ],
   "source": [
    "sbplt = sns.relplot(data = shot_list[0], x = \"SHOT_DISTANCE\", y = \"Percentage\",  hue = 'SHOT_MADE')\n",
    "sbplt.set_axis_labels('Shot Distance')\n",
    "sbplt.figure.suptitle('Shot Distribution for Luka Doncic')\n",
    "plt.show()"
   ]
  },
  {
   "cell_type": "markdown",
   "id": "afbb3f36",
   "metadata": {},
   "source": [
    "## Heatmaps"
   ]
  },
  {
   "cell_type": "markdown",
   "id": "19866ef7",
   "metadata": {},
   "source": [
    "## Multiplot"
   ]
  },
  {
   "cell_type": "markdown",
   "id": "5a6cdc11",
   "metadata": {},
   "source": []
  },
  {
   "cell_type": "markdown",
   "id": "7bcbd646",
   "metadata": {},
   "source": []
  }
 ],
 "metadata": {
  "kernelspec": {
   "display_name": "Python 3 (ipykernel)",
   "language": "python",
   "name": "python3"
  },
  "language_info": {
   "codemirror_mode": {
    "name": "ipython",
    "version": 3
   },
   "file_extension": ".py",
   "mimetype": "text/x-python",
   "name": "python",
   "nbconvert_exporter": "python",
   "pygments_lexer": "ipython3",
   "version": "3.10.12"
  }
 },
 "nbformat": 4,
 "nbformat_minor": 5
}
